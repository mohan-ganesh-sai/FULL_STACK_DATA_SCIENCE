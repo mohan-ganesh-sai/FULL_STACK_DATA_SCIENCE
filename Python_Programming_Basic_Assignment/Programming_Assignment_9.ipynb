{
 "cells": [
  {
   "cell_type": "markdown",
   "metadata": {},
   "source": [
    "Write a Python program to check if the given number is a Disarium Number?\n"
   ]
  },
  {
   "cell_type": "code",
   "execution_count": 17,
   "metadata": {},
   "outputs": [
    {
     "name": "stdout",
     "output_type": "stream",
     "text": [
      "135 is Disarium number\n",
      "81 is not Disarium number\n",
      "89 is Disarium number\n"
     ]
    }
   ],
   "source": [
    "def check_disarium(num):\n",
    "    q=num\n",
    "    sum=0\n",
    "    l=len(str(num))\n",
    "\n",
    "    while q!=0:\n",
    "        r=q%10\n",
    "        sum = sum + r**l\n",
    "        q=q//10\n",
    "        l-=1\n",
    "    if num== sum:\n",
    "        print(f'{num} is Disarium number')\n",
    "    else:\n",
    "        print(f'{num} is not Disarium number')\n",
    "        \n",
    "check_disarium(135)\n",
    "check_disarium(81)\n",
    "check_disarium(89)"
   ]
  },
  {
   "cell_type": "markdown",
   "metadata": {},
   "source": [
    "Write a Python program to print all disarium numbers between 1 to 100?\n"
   ]
  },
  {
   "cell_type": "code",
   "execution_count": 20,
   "metadata": {},
   "outputs": [
    {
     "name": "stdout",
     "output_type": "stream",
     "text": [
      "Disarium numbers from 0 to 1000 are\n",
      "0 1 2 3 4 5 6 7 8 9 89 135 175 518 598 "
     ]
    }
   ],
   "source": [
    "def check_disarium_range(n):\n",
    "    print(f'Disarium numbers from 0 to {n} are')\n",
    "    for num in range(n+1):\n",
    "        q=num\n",
    "        sum=0\n",
    "        l=len(str(num))\n",
    "\n",
    "        while q!=0:\n",
    "            r=q%10\n",
    "            sum = sum + r**l\n",
    "            q=q//10\n",
    "            l-=1\n",
    "        if num== sum:\n",
    "            print(num,end=' ')\n",
    "            \n",
    "check_disarium_range(1000)\n"
   ]
  },
  {
   "cell_type": "markdown",
   "metadata": {},
   "source": [
    "Write a Python program to check if the given number is Happy Number?\n"
   ]
  },
  {
   "cell_type": "code",
   "execution_count": 39,
   "metadata": {},
   "outputs": [
    {
     "name": "stdout",
     "output_type": "stream",
     "text": [
      "82 is happy number\n",
      "19 is happy number\n",
      "20 is not happy number\n"
     ]
    }
   ],
   "source": [
    "def happy(n):\n",
    "    num=n\n",
    "    sum_v=0\n",
    "    while num !=0:\n",
    "        \n",
    "        r = num%10\n",
    "        num =num//10\n",
    "        sum_v = sum_v + r**2\n",
    "    return sum_v\n",
    "\n",
    "def check_happy(n):\n",
    "    res = happy(n)\n",
    "    while res!=1 and res!=4:\n",
    "        res = happy(res)\n",
    "    if res == 1:\n",
    "        print(f'{n} is happy number')\n",
    "    elif res == 4:\n",
    "        print(f'{n} is not happy number')\n",
    "\n",
    "check_happy(82)\n",
    "check_happy(19)\n",
    "check_happy(20)"
   ]
  },
  {
   "cell_type": "markdown",
   "metadata": {},
   "source": [
    "Write a Python program to print all happy numbers between 1 and 100?\n"
   ]
  },
  {
   "cell_type": "code",
   "execution_count": 43,
   "metadata": {},
   "outputs": [
    {
     "name": "stdout",
     "output_type": "stream",
     "text": [
      "Happy numbers from the 1 to 100 are \n",
      "1 7 10 13 19 23 28 31 32 44 49 68 70 79 82 86 91 94 97 "
     ]
    }
   ],
   "source": [
    "def happy(n):\n",
    "    num=n\n",
    "    sum_v=0\n",
    "    while num !=0:\n",
    "        r = num%10\n",
    "        num =num//10\n",
    "        sum_v = sum_v + r**2\n",
    "    return sum_v\n",
    "\n",
    "def check_happy(ran):\n",
    "    print(f'Happy numbers from the 1 to {ran} are ')\n",
    "    for n in range(1,ran):\n",
    "        res = happy(n)\n",
    "        while res!=1 and res!=4:\n",
    "            res = happy(res)\n",
    "        if res == 1:\n",
    "            print(n,end=' ')\n",
    "            \n",
    "check_happy(100)"
   ]
  },
  {
   "cell_type": "markdown",
   "metadata": {},
   "source": [
    "Write a Python program to determine whether the given number is a Harshad Number?\n"
   ]
  },
  {
   "cell_type": "code",
   "execution_count": 45,
   "metadata": {},
   "outputs": [
    {
     "name": "stdout",
     "output_type": "stream",
     "text": [
      "4 is Harshad Number\n",
      "6 is Harshad Number\n",
      "19 is not a Harshad Number\n",
      "20 is Harshad Number\n",
      "171 is Harshad Number\n"
     ]
    }
   ],
   "source": [
    "def Harshad_number(n):\n",
    "    num=n\n",
    "    sum_v=0\n",
    "    while num !=0:\n",
    "        r = num%10\n",
    "        num =num//10\n",
    "        sum_v = sum_v + r\n",
    "    if n%sum_v==0:\n",
    "        print(f'{n} is Harshad Number')\n",
    "    else:\n",
    "        print(f'{n} is not a Harshad Number')\n",
    "\n",
    "Harshad_number(4)\n",
    "Harshad_number(6)\n",
    "Harshad_number(19)\n",
    "Harshad_number(20)\n",
    "Harshad_number(171)"
   ]
  },
  {
   "cell_type": "markdown",
   "metadata": {},
   "source": [
    "Write a Python program to print all pronic numbers between 1 and 100?\n"
   ]
  },
  {
   "cell_type": "code",
   "execution_count": 55,
   "metadata": {},
   "outputs": [
    {
     "name": "stdout",
     "output_type": "stream",
     "text": [
      "2 is pronic number\n",
      "6 is pronic number\n",
      "12 is pronic number\n",
      "20 is pronic number\n",
      "30 is pronic number\n",
      "42 is pronic number\n",
      "56 is pronic number\n",
      "72 is pronic number\n",
      "90 is pronic number\n"
     ]
    }
   ],
   "source": [
    "def pronic_number(n):\n",
    "    for c in range(n):\n",
    "        for i in range(1,c):\n",
    "            if c== i*(i+1):\n",
    "                print(f'{c} is pronic number')\n",
    "\n",
    "pronic_number(100)"
   ]
  }
 ],
 "metadata": {
  "kernelspec": {
   "display_name": "Python 3",
   "language": "python",
   "name": "python3"
  },
  "language_info": {
   "codemirror_mode": {
    "name": "ipython",
    "version": 3
   },
   "file_extension": ".py",
   "mimetype": "text/x-python",
   "name": "python",
   "nbconvert_exporter": "python",
   "pygments_lexer": "ipython3",
   "version": "3.7.3"
  }
 },
 "nbformat": 4,
 "nbformat_minor": 2
}
