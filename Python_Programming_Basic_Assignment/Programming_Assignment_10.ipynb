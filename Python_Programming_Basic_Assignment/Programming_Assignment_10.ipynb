{
 "cells": [
  {
   "cell_type": "markdown",
   "metadata": {},
   "source": [
    "Write a Python program to find sum of elements in list?\n"
   ]
  },
  {
   "cell_type": "code",
   "execution_count": 3,
   "metadata": {},
   "outputs": [
    {
     "data": {
      "text/plain": [
       "'The sum of list [1, 2, 3, 4, 5] is 15'"
      ]
     },
     "execution_count": 3,
     "metadata": {},
     "output_type": "execute_result"
    }
   ],
   "source": [
    "def sum_of_ele(lst):\n",
    "    sum=0\n",
    "    for i in lst:\n",
    "        sum = sum +i\n",
    "    return f'The sum of list {lst} is {sum}'\n",
    "sum_of_ele([1,2,3,4,5])"
   ]
  },
  {
   "cell_type": "markdown",
   "metadata": {},
   "source": [
    "Write a Python program to  Multiply all numbers in the list?\n"
   ]
  },
  {
   "cell_type": "code",
   "execution_count": 6,
   "metadata": {},
   "outputs": [
    {
     "data": {
      "text/plain": [
       "'The mul of list [1, 2, 3, 4, 5] is 120'"
      ]
     },
     "execution_count": 6,
     "metadata": {},
     "output_type": "execute_result"
    }
   ],
   "source": [
    "def mul_of_ele(lst):\n",
    "    mul=1\n",
    "    for i in lst:\n",
    "        mul = mul *i\n",
    "    return f'The mul of list {lst} is {mul}'\n",
    "mul_of_ele([1,2,3,4,5])"
   ]
  },
  {
   "cell_type": "markdown",
   "metadata": {},
   "source": [
    "Write a Python program to find smallest number in a list?\n"
   ]
  },
  {
   "cell_type": "code",
   "execution_count": 9,
   "metadata": {},
   "outputs": [
    {
     "name": "stdout",
     "output_type": "stream",
     "text": [
      "-543\n"
     ]
    }
   ],
   "source": [
    "def small_lst(lst):\n",
    "    min=lst[0]\n",
    "    for i in lst:\n",
    "        if i<min:\n",
    "            min =i\n",
    "    return print(min)\n",
    "small_lst([-5,2,5,-543,67,-34])"
   ]
  },
  {
   "cell_type": "markdown",
   "metadata": {},
   "source": [
    "Write a Python program to find largest number in a list?\n"
   ]
  },
  {
   "cell_type": "code",
   "execution_count": 11,
   "metadata": {},
   "outputs": [
    {
     "name": "stdout",
     "output_type": "stream",
     "text": [
      "4563\n"
     ]
    }
   ],
   "source": [
    "def max_of_lst(lst):\n",
    "    max=lst[0]\n",
    "    for i in lst:\n",
    "        if i>max:\n",
    "            max=i\n",
    "    return print(max)\n",
    "\n",
    "max_of_lst([-5,2,5,-543,67,-34,4563])"
   ]
  },
  {
   "cell_type": "markdown",
   "metadata": {},
   "source": [
    "Write a Python program to find second largest number in a list?\n"
   ]
  },
  {
   "cell_type": "code",
   "execution_count": 17,
   "metadata": {},
   "outputs": [
    {
     "data": {
      "text/plain": [
       "'second largest value in [-5, 2, 5, -543, 67, -34, 54243654, 4563] is 4563'"
      ]
     },
     "execution_count": 17,
     "metadata": {},
     "output_type": "execute_result"
    }
   ],
   "source": [
    "def second_large(lst):\n",
    "    l=lst.copy()\n",
    "    l.sort()\n",
    "    return f'second largest value in {lst} is {l[-2]}'\n",
    "\n",
    "second_large([-5,2,5,-543,67,-34,54243654,4563])"
   ]
  },
  {
   "cell_type": "markdown",
   "metadata": {},
   "source": [
    "Write a Python program to find N largest elements from a list?\n"
   ]
  },
  {
   "cell_type": "code",
   "execution_count": 29,
   "metadata": {},
   "outputs": [
    {
     "name": "stdout",
     "output_type": "stream",
     "text": [
      "sorted list is [-7, -5, 2, 5, 33, 55, 99]\n",
      "3 large numbers in [-5, 2, 5, -7, 99, 55, 33] are  99 55 33 "
     ]
    }
   ],
   "source": [
    "def n_large_ele(lst,n):\n",
    "    l=lst.copy()\n",
    "    l.sort()\n",
    "    print(f'sorted list is {l}')\n",
    "    print(f'{n} large numbers in {lst} are ',end=' ')\n",
    "    for i in range(1,len(l)+1):\n",
    "        if i<=n:\n",
    "            print(l[-i],end=' ')\n",
    "        \n",
    "n_large_ele([-5,2,5,-7,99,55,33],3)"
   ]
  },
  {
   "cell_type": "markdown",
   "metadata": {},
   "source": [
    "Write a Python program to print even numbers in a list?\n"
   ]
  },
  {
   "cell_type": "code",
   "execution_count": 38,
   "metadata": {},
   "outputs": [
    {
     "name": "stdout",
     "output_type": "stream",
     "text": [
      "Even numbers in the [2, 3, 4, 5, 6, 7, 89, 200] are  2 4 6 200 "
     ]
    }
   ],
   "source": [
    "def even_num(lst):\n",
    "    print(f'Even numbers in the {lst} are ',end=' ')\n",
    "    for i in lst:\n",
    "        if i%2 == 0:\n",
    "            print(i,end=' ')\n",
    "\n",
    "even_num([2,3,4,5,6,7,89,200])"
   ]
  },
  {
   "cell_type": "markdown",
   "metadata": {},
   "source": [
    "Write a Python program to print odd numbers in a List?\n"
   ]
  },
  {
   "cell_type": "code",
   "execution_count": 39,
   "metadata": {},
   "outputs": [
    {
     "name": "stdout",
     "output_type": "stream",
     "text": [
      "Odd numbers in the [2, 3, 4, 5, 6, 7, 89, 200] are  3 5 7 89 "
     ]
    }
   ],
   "source": [
    "def odd_num(lst):\n",
    "    print(f'Odd numbers in the {lst} are ',end=' ')\n",
    "    for i in lst:\n",
    "        if i%2 != 0:\n",
    "            print(i,end=' ')\n",
    "\n",
    "odd_num([2,3,4,5,6,7,89,200])"
   ]
  },
  {
   "cell_type": "markdown",
   "metadata": {},
   "source": [
    "Write a Python program to Remove empty List from List?\n"
   ]
  },
  {
   "cell_type": "code",
   "execution_count": 43,
   "metadata": {},
   "outputs": [
    {
     "name": "stdout",
     "output_type": "stream",
     "text": [
      "[1, 2, 3, 4, [1, 2, 3], ['ab', 'cd', 'ef'], 'sa']\n"
     ]
    }
   ],
   "source": [
    "lst = [1,2,3,4,[1,2,3],[],['ab','cd','ef'],[],[],'sa']\n",
    "def remove_emp_lst(l):\n",
    "    dl=l.copy()\n",
    "    for i in dl:\n",
    "        if type(i)==list:\n",
    "            if len(i)==0:\n",
    "                l.remove(i)\n",
    "    return print(l)\n",
    "remove_emp_lst(lst)"
   ]
  },
  {
   "cell_type": "markdown",
   "metadata": {},
   "source": [
    "Write a Python program to Cloning or Copying a list?\n"
   ]
  },
  {
   "cell_type": "code",
   "execution_count": 45,
   "metadata": {},
   "outputs": [
    {
     "name": "stdout",
     "output_type": "stream",
     "text": [
      "[2, 3, 4, 56, 7]\n",
      "[2, 3, 4, 56, 7]\n"
     ]
    }
   ],
   "source": [
    "def clone_lst(l):\n",
    "    clone=l.copy()\n",
    "    return clone\n",
    "l=[2,3,4,56,7]\n",
    "l1=clone_lst(l)\n",
    "print(l)\n",
    "print(l1)"
   ]
  },
  {
   "cell_type": "markdown",
   "metadata": {},
   "source": [
    "Write a Python program to Count occurrences of an element in a list?\n"
   ]
  },
  {
   "cell_type": "code",
   "execution_count": 46,
   "metadata": {},
   "outputs": [
    {
     "name": "stdout",
     "output_type": "stream",
     "text": [
      "count occurence of 1 in given list is 4\n",
      "count occurence of 2 in given list is 2\n",
      "count occurence of 3 in given list is 1\n",
      "count occurence of 4 in given list is 1\n",
      "count occurence of sai in given list is 2\n",
      "count occurence of ram in given list is 1\n"
     ]
    }
   ],
   "source": [
    "lst =[1,2,3,1,1,1,2,4,'sai','ram','sai']\n",
    "new_lst=[]\n",
    "for i in lst:\n",
    "    if i not in new_lst:\n",
    "        new_lst.append(i)\n",
    "for i in new_lst:\n",
    "    print(f'count occurence of {i} in given list is {lst.count(i)}')"
   ]
  }
 ],
 "metadata": {
  "kernelspec": {
   "display_name": "Python 3",
   "language": "python",
   "name": "python3"
  },
  "language_info": {
   "codemirror_mode": {
    "name": "ipython",
    "version": 3
   },
   "file_extension": ".py",
   "mimetype": "text/x-python",
   "name": "python",
   "nbconvert_exporter": "python",
   "pygments_lexer": "ipython3",
   "version": "3.7.3"
  }
 },
 "nbformat": 4,
 "nbformat_minor": 2
}
