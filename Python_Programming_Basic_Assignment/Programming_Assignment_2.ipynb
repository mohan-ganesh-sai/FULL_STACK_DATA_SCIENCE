{
 "cells": [
  {
   "cell_type": "markdown",
   "metadata": {},
   "source": [
    "Write a Python program to convert kilometers to miles?\n"
   ]
  },
  {
   "cell_type": "code",
   "execution_count": 23,
   "metadata": {},
   "outputs": [
    {
     "data": {
      "text/plain": [
       "'5 Km is equal to 3.1 miles'"
      ]
     },
     "execution_count": 23,
     "metadata": {},
     "output_type": "execute_result"
    }
   ],
   "source": [
    "def km_to_miles(no_km):\n",
    "    return (f'{no_km} Km is equal to '+str(no_km*0.62)+' miles')\n",
    "    \n",
    "km_to_miles(5)"
   ]
  },
  {
   "cell_type": "markdown",
   "metadata": {},
   "source": [
    "Write a Python program to convert Celsius to Fahrenheit?\n"
   ]
  },
  {
   "cell_type": "code",
   "execution_count": 29,
   "metadata": {},
   "outputs": [
    {
     "data": {
      "text/plain": [
       "'8 celsius is equal to 46.4 fahrenheit'"
      ]
     },
     "execution_count": 29,
     "metadata": {},
     "output_type": "execute_result"
    }
   ],
   "source": [
    "def celsius_to_fahrenheit(celsius):\n",
    "    return f'{celsius} celsius is equal to '+str((celsius * 9/5)+32)+' fahrenheit'\n",
    "celsius_to_fahrenheit(8)"
   ]
  },
  {
   "cell_type": "markdown",
   "metadata": {},
   "source": [
    "Write a Python program to display calendar?\n"
   ]
  },
  {
   "cell_type": "code",
   "execution_count": 34,
   "metadata": {},
   "outputs": [
    {
     "name": "stdout",
     "output_type": "stream",
     "text": [
      "     July 2021\n",
      "Mo Tu We Th Fr Sa Su\n",
      "          1  2  3  4\n",
      " 5  6  7  8  9 10 11\n",
      "12 13 14 15 16 17 18\n",
      "19 20 21 22 23 24 25\n",
      "26 27 28 29 30 31\n",
      "\n"
     ]
    }
   ],
   "source": [
    "import calendar\n",
    "def display_calender(yyyy,mm):\n",
    "    print(calendar.month(yyyy,mm))\n",
    "display_calender(2021,7)"
   ]
  },
  {
   "cell_type": "markdown",
   "metadata": {},
   "source": [
    "Write a Python program to solve quadratic equation?\n"
   ]
  },
  {
   "cell_type": "code",
   "execution_count": 70,
   "metadata": {},
   "outputs": [
    {
     "name": "stdout",
     "output_type": "stream",
     "text": [
      "roots are real and different which are 4.0 and 3.0\n",
      "roots are real and equal which is 1.0\n",
      "roots are complex which is -0.5+i0.5 and -0.5-i0.5\n",
      "roots are real and different which are 1.5 and 1.0\n"
     ]
    }
   ],
   "source": [
    "# for quadratic equation ax^2 + bx + c = 0 , the roots are (-b+sqrt(b**2 -4ac))/2a and (-b-sqrt(b**2 -4ac))/2a\n",
    "def roots_of_qua_eq(a,b,c):\n",
    "    dis=b**2-4*a*c\n",
    "    if b**2 > 4*a*c:\n",
    "        root1 = (-b+(dis)**(1/2))/(2*a)\n",
    "        root2 = (-b-(dis)**(1/2))/(2*a)\n",
    "        result=f'roots are real and different which are {root1} and {root2}'\n",
    "    elif b**2 == 4*a*c:\n",
    "        root=-b/(2*a)\n",
    "        result=f'roots are real and equal which is {root}'\n",
    "    elif b**2 < 4*a*c:\n",
    "        root1 = str(-b/(2*a))+'+i'+str((abs(dis)**1/2)/(2*a))\n",
    "        root2 = str(-b/(2*a))+'-i'+str((abs(dis)**1/2)/(2*a))\n",
    "        result=f'roots are complex which is {root1} and {root2}'\n",
    "    return result\n",
    "print(roots_of_qua_eq(1,-7,12))\n",
    "print(roots_of_qua_eq(1,-2,1))\n",
    "print(roots_of_qua_eq(2,2,1))\n",
    "print(roots_of_qua_eq(2,-5,3))"
   ]
  },
  {
   "cell_type": "code",
   "execution_count": 51,
   "metadata": {},
   "outputs": [
    {
     "data": {
      "text/plain": [
       "5.0"
      ]
     },
     "execution_count": 51,
     "metadata": {},
     "output_type": "execute_result"
    }
   ],
   "source": [
    "20/(2*2)"
   ]
  },
  {
   "cell_type": "code",
   "execution_count": 46,
   "metadata": {},
   "outputs": [
    {
     "data": {
      "text/plain": [
       "2.0"
      ]
     },
     "execution_count": 46,
     "metadata": {},
     "output_type": "execute_result"
    }
   ],
   "source": [
    "import cmath\n",
    "import math\n",
    "cmath.sqrt(-4)\n",
    "math.sqrt(4)"
   ]
  },
  {
   "cell_type": "markdown",
   "metadata": {},
   "source": [
    "Write a Python program to swap two variables without temp variable?\n"
   ]
  },
  {
   "cell_type": "code",
   "execution_count": 36,
   "metadata": {},
   "outputs": [
    {
     "name": "stdout",
     "output_type": "stream",
     "text": [
      "values of variables before swap are a=3,b=5\n",
      "values of variables after swap are a=5,b=3\n"
     ]
    }
   ],
   "source": [
    "def swap_var(a,b):\n",
    "    print(f'values of variables before swap are a={a},b={b}')\n",
    "    a,b=b,a\n",
    "    print(f'values of variables after swap are a={a},b={b}')\n",
    "\n",
    "swap_var(3,5)"
   ]
  },
  {
   "cell_type": "code",
   "execution_count": null,
   "metadata": {},
   "outputs": [],
   "source": []
  }
 ],
 "metadata": {
  "kernelspec": {
   "display_name": "Python 3",
   "language": "python",
   "name": "python3"
  },
  "language_info": {
   "codemirror_mode": {
    "name": "ipython",
    "version": 3
   },
   "file_extension": ".py",
   "mimetype": "text/x-python",
   "name": "python",
   "nbconvert_exporter": "python",
   "pygments_lexer": "ipython3",
   "version": "3.7.3"
  }
 },
 "nbformat": 4,
 "nbformat_minor": 2
}
