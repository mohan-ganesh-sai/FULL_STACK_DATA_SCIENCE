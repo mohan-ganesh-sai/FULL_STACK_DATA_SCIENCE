{
 "cells": [
  {
   "cell_type": "markdown",
   "metadata": {},
   "source": [
    "Write a Python program to print \"Hello Python\"?\n",
    "\n"
   ]
  },
  {
   "cell_type": "code",
   "execution_count": 3,
   "metadata": {},
   "outputs": [
    {
     "name": "stdout",
     "output_type": "stream",
     "text": [
      "Hello Python\n"
     ]
    }
   ],
   "source": [
    "def prin():\n",
    "    print(\"Hello Python\")\n",
    "\n",
    "prin()"
   ]
  },
  {
   "cell_type": "markdown",
   "metadata": {},
   "source": [
    "Write a Python program to do arithmetical operations addition and division.?\n"
   ]
  },
  {
   "cell_type": "code",
   "execution_count": 6,
   "metadata": {},
   "outputs": [
    {
     "name": "stdout",
     "output_type": "stream",
     "text": [
      "By performing add operation on 2 and 3,the result is 5\n",
      "By performing div operation on 9 and 3,the result is 3.0\n"
     ]
    }
   ],
   "source": [
    "def add_div(operand1,operand2,operator):\n",
    "    if operator == 'add':\n",
    "        result = operand1+operand2\n",
    "    elif operator == 'div':\n",
    "        result = operand1/operand2\n",
    "    print(f'By performing {operator} operation on {operand1} and {operand2},the result is {result}')\n",
    "    \n",
    "add_div(2,3,'add')\n",
    "add_div(9,3,'div')"
   ]
  },
  {
   "cell_type": "markdown",
   "metadata": {},
   "source": [
    "Write a Python program to find the area of a triangle?\n"
   ]
  },
  {
   "cell_type": "code",
   "execution_count": 13,
   "metadata": {},
   "outputs": [
    {
     "name": "stdout",
     "output_type": "stream",
     "text": [
      "Area of traingle with base 3 and height 4 is 6.0\n",
      "Area of traingle with base 5 and height 4 is 10.0\n"
     ]
    }
   ],
   "source": [
    "def area_of_traingle(base,height):\n",
    "    return (f'Area of traingle with base {base} and height {height} is {base*height/2}')\n",
    "\n",
    "print(area_of_traingle(3,4))\n",
    "print(area_of_traingle(5,4))"
   ]
  },
  {
   "cell_type": "markdown",
   "metadata": {},
   "source": [
    "Write a Python program to swap two variables?\n"
   ]
  },
  {
   "cell_type": "code",
   "execution_count": 14,
   "metadata": {},
   "outputs": [
    {
     "name": "stdout",
     "output_type": "stream",
     "text": [
      "variables before swap a=3,b=4\n",
      "variables after swap a=4,b=3\n"
     ]
    }
   ],
   "source": [
    "def swap_var(a,b):\n",
    "    print(f'variables before swap a={a},b={b}')\n",
    "    a,b=b,a\n",
    "    print(f'variables after swap a={a},b={b}')\n",
    "\n",
    "swap_var(3,4)"
   ]
  },
  {
   "cell_type": "markdown",
   "metadata": {},
   "source": [
    "Write a Python program to generate a random number?"
   ]
  },
  {
   "cell_type": "code",
   "execution_count": 34,
   "metadata": {},
   "outputs": [
    {
     "data": {
      "text/plain": [
       "'the random variable which is generated betweem 1 and 9 is 9'"
      ]
     },
     "execution_count": 34,
     "metadata": {},
     "output_type": "execute_result"
    }
   ],
   "source": [
    "import random\n",
    "def generate_random_number(start_number,end_number):\n",
    "    a=random.randint(start_number,end_number)\n",
    "    return f'the random variable which is generated betweem {start_number} and {end_number} is {a}'\n",
    "\n",
    "generate_random_number(1,9)"
   ]
  },
  {
   "cell_type": "code",
   "execution_count": null,
   "metadata": {},
   "outputs": [],
   "source": []
  }
 ],
 "metadata": {
  "kernelspec": {
   "display_name": "Python 3",
   "language": "python",
   "name": "python3"
  },
  "language_info": {
   "codemirror_mode": {
    "name": "ipython",
    "version": 3
   },
   "file_extension": ".py",
   "mimetype": "text/x-python",
   "name": "python",
   "nbconvert_exporter": "python",
   "pygments_lexer": "ipython3",
   "version": "3.7.3"
  }
 },
 "nbformat": 4,
 "nbformat_minor": 2
}
