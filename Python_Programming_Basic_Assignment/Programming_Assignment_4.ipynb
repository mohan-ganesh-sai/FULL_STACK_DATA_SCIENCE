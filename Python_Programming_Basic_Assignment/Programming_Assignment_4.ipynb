{
 "cells": [
  {
   "cell_type": "markdown",
   "metadata": {},
   "source": [
    "Write a Python Program to Find the Factorial of a Number?\n"
   ]
  },
  {
   "cell_type": "code",
   "execution_count": 15,
   "metadata": {},
   "outputs": [
    {
     "name": "stdout",
     "output_type": "stream",
     "text": [
      "120 is the factorial value of 5\n",
      "5.3 is not a valid number for factorial, valid number is a postive integer for factorial\n",
      "-4 is not a valid number for factorial, valid number is a postive integer for factorial\n"
     ]
    }
   ],
   "source": [
    "def fact(num):\n",
    "    if num<0 or type(num)!=int:\n",
    "        print(f'{num} is not a valid number for factorial, valid number is a postive integer for factorial')\n",
    "    else:\n",
    "        fact=1\n",
    "        for i in range(1,num+1):\n",
    "            fact=fact*i\n",
    "        print(f'{fact} is the factorial value of {num}')\n",
    "\n",
    "fact(5)\n",
    "fact(5.3)\n",
    "fact(-4)"
   ]
  },
  {
   "cell_type": "markdown",
   "metadata": {},
   "source": [
    "Write a Python Program to Display the multiplication Table?\n"
   ]
  },
  {
   "cell_type": "code",
   "execution_count": 24,
   "metadata": {},
   "outputs": [
    {
     "name": "stdout",
     "output_type": "stream",
     "text": [
      "Table of number 3 is\n",
      "3 * 1 = 3\n",
      "3 * 2 = 6\n",
      "3 * 3 = 9\n",
      "3 * 4 = 12\n",
      "3 * 5 = 15\n",
      "3 * 6 = 18\n",
      "3 * 7 = 21\n",
      "3 * 8 = 24\n",
      "3 * 9 = 27\n",
      "3 * 10 = 30\n",
      "3 * 11 = 33\n",
      "3 * 12 = 36\n"
     ]
    }
   ],
   "source": [
    "def multiplication_table(num,multiples):\n",
    "    print(f'Table of number {num} is')\n",
    "    for i in range(1,multiples+1):\n",
    "        \n",
    "        print(f'{num} * {i } = { num*i}')\n",
    "        \n",
    "multiplication_table(3,12)"
   ]
  },
  {
   "cell_type": "markdown",
   "metadata": {},
   "source": [
    "Write a Python Program to Print the Fibonacci sequence?\n"
   ]
  },
  {
   "cell_type": "code",
   "execution_count": 34,
   "metadata": {},
   "outputs": [
    {
     "name": "stdout",
     "output_type": "stream",
     "text": [
      "1 1 2 3 5 8 13 21 "
     ]
    }
   ],
   "source": [
    "def fib(n):\n",
    "    a,b=0,1\n",
    "    while n>b:\n",
    "        c=a+b\n",
    "        a=b\n",
    "        b=c\n",
    "        print(a,end=' ')\n",
    "\n",
    "fib(30)"
   ]
  },
  {
   "cell_type": "markdown",
   "metadata": {},
   "source": [
    "Write a Python Program to Check Armstrong Number?\n"
   ]
  },
  {
   "cell_type": "code",
   "execution_count": 50,
   "metadata": {},
   "outputs": [
    {
     "name": "stdout",
     "output_type": "stream",
     "text": [
      "153 is armstrong number\n",
      "543 is not a armstrong number\n",
      "370 is armstrong number\n"
     ]
    }
   ],
   "source": [
    "def check_armstrong(num):\n",
    "    q=num\n",
    "    sum=0\n",
    "    while q!=0:\n",
    "        r=q%10\n",
    "        sum=sum+r**3\n",
    "        q=q//10\n",
    "        \n",
    "    if num==sum:\n",
    "        print(f'{num} is armstrong number')\n",
    "    else:\n",
    "        print(f'{num} is not a armstrong number')\n",
    "\n",
    "check_armstrong(153)\n",
    "check_armstrong(543)\n",
    "check_armstrong(370)"
   ]
  },
  {
   "cell_type": "markdown",
   "metadata": {},
   "source": [
    "Write a Python Program to Find Armstrong Number in an Interval?\n"
   ]
  },
  {
   "cell_type": "code",
   "execution_count": 57,
   "metadata": {},
   "outputs": [
    {
     "name": "stdout",
     "output_type": "stream",
     "text": [
      "Armstrong numbers between 3 and 1000 are \n",
      "153 370 371 407 "
     ]
    }
   ],
   "source": [
    "def check_armstrong(start,end):\n",
    "    print(f'Armstrong numbers between {start} and {end} are ')\n",
    "    for num in range(start,end):\n",
    "        q=num\n",
    "        sum=0\n",
    "        while q!=0:\n",
    "            r=q%10\n",
    "            sum=sum+r**3\n",
    "            q=q//10\n",
    "        if num==sum:\n",
    "            print(f'{num}',end=' ')\n",
    "check_armstrong(3,1000)\n"
   ]
  },
  {
   "cell_type": "markdown",
   "metadata": {},
   "source": [
    "Write a Python Program to Find the Sum of Natural Numbers?\n"
   ]
  },
  {
   "cell_type": "code",
   "execution_count": 62,
   "metadata": {},
   "outputs": [
    {
     "name": "stdout",
     "output_type": "stream",
     "text": [
      "sum of 5 natural numbers is 15\n",
      "sum of 20 natural numbers is 210\n"
     ]
    }
   ],
   "source": [
    "def sum_natural(num):\n",
    "    sum=0\n",
    "    for i in range(1,num+1):\n",
    "        sum+=i\n",
    "    return print(f'sum of {num} natural numbers is {sum}')\n",
    "\n",
    "sum_natural(5)\n",
    "sum_natural(20)"
   ]
  },
  {
   "cell_type": "code",
   "execution_count": null,
   "metadata": {},
   "outputs": [],
   "source": []
  }
 ],
 "metadata": {
  "kernelspec": {
   "display_name": "Python 3",
   "language": "python",
   "name": "python3"
  },
  "language_info": {
   "codemirror_mode": {
    "name": "ipython",
    "version": 3
   },
   "file_extension": ".py",
   "mimetype": "text/x-python",
   "name": "python",
   "nbconvert_exporter": "python",
   "pygments_lexer": "ipython3",
   "version": "3.7.3"
  }
 },
 "nbformat": 4,
 "nbformat_minor": 2
}
