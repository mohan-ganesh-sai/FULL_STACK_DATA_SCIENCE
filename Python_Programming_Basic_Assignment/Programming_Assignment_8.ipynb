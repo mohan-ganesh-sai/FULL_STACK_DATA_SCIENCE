{
 "cells": [
  {
   "cell_type": "markdown",
   "metadata": {},
   "source": [
    "Write a Python Program to Add Two Matrices?"
   ]
  },
  {
   "cell_type": "code",
   "execution_count": 13,
   "metadata": {},
   "outputs": [
    {
     "name": "stdout",
     "output_type": "stream",
     "text": [
      "[[10, 10, 10], [10, 10, 10], [10, 10, 10]]\n"
     ]
    }
   ],
   "source": [
    "Mat1 =[[1,2,3],[4,5,6],[7,8,9]]\n",
    "Mat2 =[[9,8,7],[6,5,4],[3,2,1]]\n",
    "sum  =[[0,0,0],[0,0,0],[0,0,0]]\n",
    "for i in range(len(Mat1)):\n",
    "    for j in range(len(Mat1[0])):\n",
    "        sum[i][j]=Mat1[i][j]+Mat2[i][j]\n",
    "print(sum)"
   ]
  },
  {
   "cell_type": "markdown",
   "metadata": {},
   "source": [
    "Write a Python Program to Multiply Two Matrices?\n"
   ]
  },
  {
   "cell_type": "code",
   "execution_count": 28,
   "metadata": {},
   "outputs": [
    {
     "name": "stdout",
     "output_type": "stream",
     "text": [
      "addition of 2 matrices is \n",
      "[[ 2  2  3]\n",
      " [ 4  6  6]\n",
      " [ 7  8 10]]\n",
      "addition of 2 matrices is \n",
      "[[1, 2, 3], [4, 5, 6], [7, 8, 9]]\n"
     ]
    }
   ],
   "source": [
    "import numpy as np\n",
    "a=np.array([[1,2,3],[4,5,6],[7,8,9]])\n",
    "b=np.array([[1,0,0],[0,1,0],[0,0,1]])\n",
    "mul=[[0,0,0],[0,0,0],[0,0,0]]\n",
    "for i in range(len(a)):\n",
    "    for j in range(len(b[0])):\n",
    "        for k in range(len(mul)):\n",
    "            mul[i][j] += a[i][k] * b[k][j]\n",
    "print(f'addition of 2 matrices is \\n{a+b}')\n",
    "print(f'addition of 2 matrices is \\n{mul}')\n"
   ]
  },
  {
   "cell_type": "markdown",
   "metadata": {},
   "source": [
    "Write a Python Program to Transpose a Matrix?\n"
   ]
  },
  {
   "cell_type": "code",
   "execution_count": 34,
   "metadata": {},
   "outputs": [
    {
     "name": "stdout",
     "output_type": "stream",
     "text": [
      "[[1, 4, 7], [2, 5, 8], [3, 6, 9], [4, 10, 11]]\n"
     ]
    }
   ],
   "source": [
    "Mat1 =[[1,2,3,4],[4,5,6,10],[7,8,9,11]]\n",
    "Mat2 =[[0,0,0],[0,0,0],[0,0,0],[0,0,0]]\n",
    "for i in range(len(Mat1)):\n",
    "    for j in range(len(Mat1[0])):\n",
    "        Mat2[j][i]=Mat1[i][j]\n",
    "        \n",
    "print(Mat2)"
   ]
  },
  {
   "cell_type": "markdown",
   "metadata": {},
   "source": [
    "Write a Python Program to Sort Words in Alphabetic Order?\n"
   ]
  },
  {
   "cell_type": "code",
   "execution_count": 43,
   "metadata": {},
   "outputs": [
    {
     "name": "stdout",
     "output_type": "stream",
     "text": [
      "['AMAZON', 'APPLE', 'CAT', 'TCS', 'ZOO']\n"
     ]
    }
   ],
   "source": [
    "def sort_words(arr):\n",
    "    lst=[i.upper() for i in arr]\n",
    "    lst.sort()\n",
    "    print(lst)\n",
    "sort_words(['cat','apple','zoo','Amazon','TCS'])"
   ]
  },
  {
   "cell_type": "markdown",
   "metadata": {},
   "source": [
    "Write a Python Program to Remove Punctuation From a String?"
   ]
  },
  {
   "cell_type": "code",
   "execution_count": 49,
   "metadata": {},
   "outputs": [
    {
     "data": {
      "text/plain": [
       "'sasdhbsdfg'"
      ]
     },
     "execution_count": 49,
     "metadata": {},
     "output_type": "execute_result"
    }
   ],
   "source": [
    "punc = '''!()-[]{};:'\"\\,<>./?@#$%^&*_~'''\n",
    "def remove_punc(str):\n",
    "    for i in str:\n",
    "        if i in punc:\n",
    "            str=str.replace(i,'')\n",
    "    return str\n",
    "remove_punc('sa;sdhb,.sdfg')"
   ]
  },
  {
   "cell_type": "code",
   "execution_count": null,
   "metadata": {},
   "outputs": [],
   "source": []
  },
  {
   "cell_type": "code",
   "execution_count": null,
   "metadata": {},
   "outputs": [],
   "source": []
  },
  {
   "cell_type": "code",
   "execution_count": null,
   "metadata": {},
   "outputs": [],
   "source": []
  }
 ],
 "metadata": {
  "kernelspec": {
   "display_name": "Python 3",
   "language": "python",
   "name": "python3"
  },
  "language_info": {
   "codemirror_mode": {
    "name": "ipython",
    "version": 3
   },
   "file_extension": ".py",
   "mimetype": "text/x-python",
   "name": "python",
   "nbconvert_exporter": "python",
   "pygments_lexer": "ipython3",
   "version": "3.7.3"
  }
 },
 "nbformat": 4,
 "nbformat_minor": 2
}
