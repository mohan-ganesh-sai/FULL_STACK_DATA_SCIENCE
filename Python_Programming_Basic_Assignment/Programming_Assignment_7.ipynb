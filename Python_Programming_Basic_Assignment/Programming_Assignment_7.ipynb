{
 "cells": [
  {
   "cell_type": "markdown",
   "metadata": {},
   "source": [
    "Write a Python Program to find sum of array?"
   ]
  },
  {
   "cell_type": "code",
   "execution_count": 2,
   "metadata": {},
   "outputs": [
    {
     "name": "stdout",
     "output_type": "stream",
     "text": [
      "the sum of the array is 36\n"
     ]
    }
   ],
   "source": [
    "arr = [1,2,3,4,5,6,7,8]\n",
    "sum=0\n",
    "for i in arr:\n",
    "    sum =sum+i\n",
    "    \n",
    "print(f'the sum of the array is {sum}')"
   ]
  },
  {
   "cell_type": "markdown",
   "metadata": {},
   "source": [
    "Write a Python Program to find largest element in an array?\n"
   ]
  },
  {
   "cell_type": "code",
   "execution_count": 4,
   "metadata": {},
   "outputs": [
    {
     "data": {
      "text/plain": [
       "67"
      ]
     },
     "execution_count": 4,
     "metadata": {},
     "output_type": "execute_result"
    }
   ],
   "source": [
    "def large_array(arr):\n",
    "    max = arr[0]\n",
    "    for i in arr:\n",
    "        if i>max:\n",
    "            max=i\n",
    "    return max\n",
    "large_array([34,5,2,67,-5])"
   ]
  },
  {
   "cell_type": "markdown",
   "metadata": {},
   "source": [
    "Write a Python Program for array rotation?\n"
   ]
  },
  {
   "cell_type": "code",
   "execution_count": 13,
   "metadata": {},
   "outputs": [
    {
     "name": "stdout",
     "output_type": "stream",
     "text": [
      "[3, 7, 5, 4, 2]\n"
     ]
    }
   ],
   "source": [
    "def array_rotation(arr):\n",
    "    r_arr=[]\n",
    "    for i in range(len(arr)-1,-1,-1):\n",
    "        \n",
    "        r_arr.append(arr[i])\n",
    "    return r_arr\n",
    "print(array_rotation([2,4,5,7,3]))"
   ]
  },
  {
   "cell_type": "markdown",
   "metadata": {},
   "source": [
    "Write a Python Program to Split the array and add the first part to the end?\n"
   ]
  },
  {
   "cell_type": "code",
   "execution_count": 19,
   "metadata": {},
   "outputs": [
    {
     "data": {
      "text/plain": [
       "[6, 7, 8, 10, 2, 3]"
      ]
     },
     "execution_count": 19,
     "metadata": {},
     "output_type": "execute_result"
    }
   ],
   "source": [
    "def split_array(arr,no_of_ele):\n",
    "    new_array=arr[no_of_ele:]+arr[:no_of_ele]\n",
    "    return new_array\n",
    "split_array([2,3,6,7,8,10],2)"
   ]
  },
  {
   "cell_type": "markdown",
   "metadata": {},
   "source": [
    "Write a Python Program to check if given array is Monotonic?\n"
   ]
  },
  {
   "cell_type": "code",
   "execution_count": 22,
   "metadata": {},
   "outputs": [
    {
     "name": "stdout",
     "output_type": "stream",
     "text": [
      "enter elements of a array with space: 9 8 7 6 5 4\n",
      "array is Monotonic\n"
     ]
    }
   ],
   "source": [
    "\n",
    "array = input('enter elements of a array with space: ').split()\n",
    "flag = False\n",
    "for i in range(len(array)-1):\n",
    "    if array[i] >= array[i+1]:\n",
    "        flag = True\n",
    "    else:\n",
    "        flag = False\n",
    "        break\n",
    "if flag == False:       \n",
    "    for i in range(len(array)-1):\n",
    "        if array[i] <= array[i+1]:\n",
    "            flag = True\n",
    "        else:\n",
    "            flag = False\n",
    "            break\n",
    "if flag == True:\n",
    "    print('array is Monotonic')\n",
    "else:\n",
    "    print('array is not Monotonic')"
   ]
  }
 ],
 "metadata": {
  "kernelspec": {
   "display_name": "Python 3",
   "language": "python",
   "name": "python3"
  },
  "language_info": {
   "codemirror_mode": {
    "name": "ipython",
    "version": 3
   },
   "file_extension": ".py",
   "mimetype": "text/x-python",
   "name": "python",
   "nbconvert_exporter": "python",
   "pygments_lexer": "ipython3",
   "version": "3.7.3"
  }
 },
 "nbformat": 4,
 "nbformat_minor": 2
}
