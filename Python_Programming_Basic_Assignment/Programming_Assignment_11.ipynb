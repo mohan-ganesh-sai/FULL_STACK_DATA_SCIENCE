{
 "cells": [
  {
   "cell_type": "markdown",
   "metadata": {},
   "source": [
    "Write a Python program to find words which are greater than given length k?\n"
   ]
  },
  {
   "cell_type": "code",
   "execution_count": 4,
   "metadata": {},
   "outputs": [
    {
     "data": {
      "text/plain": [
       "\"The words which are greater than length 3 are ['This', 'will', 'sample', 'text', 'test', 'program']\""
      ]
     },
     "execution_count": 4,
     "metadata": {},
     "output_type": "execute_result"
    }
   ],
   "source": [
    "def words_gt_len(str,k):\n",
    "    new_lst=[]\n",
    "    l=str.split()\n",
    "    for i in l:\n",
    "        if len(i)>k:\n",
    "            new_lst.append(i)\n",
    "    return f'The words which are greater than length {k} are {new_lst}'\n",
    "\n",
    "words_gt_len('This will be the sample text to test the program',3)"
   ]
  },
  {
   "cell_type": "markdown",
   "metadata": {},
   "source": [
    "Write a Python program for removing i-th character from a string?\n"
   ]
  },
  {
   "cell_type": "code",
   "execution_count": 11,
   "metadata": {},
   "outputs": [
    {
     "name": "stdout",
     "output_type": "stream",
     "text": [
      "smple case\n",
      "ample case\n"
     ]
    }
   ],
   "source": [
    "def remove_char(strg,i):\n",
    "    st=strg[:i-1]+strg[i:]\n",
    "    return print(st)\n",
    "remove_char('sample case',2)\n",
    "remove_char('sample case',1)"
   ]
  },
  {
   "cell_type": "markdown",
   "metadata": {},
   "source": [
    "Write a Python program to split and join a string?\n"
   ]
  },
  {
   "cell_type": "code",
   "execution_count": 11,
   "metadata": {},
   "outputs": [
    {
     "name": "stdout",
     "output_type": "stream",
     "text": [
      "list of splitted string is ['this', 'is', 'a', 'sample', 'string', 'to', 'split', 'and', 'join']\n",
      "t h i s   i s   a   s a m p l e   s t r i n g   t o   s p l i t   a n d   j o i n\n"
     ]
    }
   ],
   "source": [
    "def split_join(st):\n",
    "    a = st.split()\n",
    "    b= f'list of splitted string is {a}'\n",
    "    c=' '.join(st)\n",
    "    return print(b,c,sep='\\n')\n",
    "\n",
    "s='this is a sample string to split and join'\n",
    "split_join(s)"
   ]
  },
  {
   "cell_type": "markdown",
   "metadata": {},
   "source": [
    "Write a Python to check if a given string is binary string or not?\n"
   ]
  },
  {
   "cell_type": "code",
   "execution_count": 20,
   "metadata": {},
   "outputs": [
    {
     "name": "stdout",
     "output_type": "stream",
     "text": [
      "1011 is binary\n",
      "gchgc is not binary\n",
      "10203 is not binary\n"
     ]
    }
   ],
   "source": [
    "def check_binary(st):\n",
    "    s=set(st)\n",
    "    \n",
    "    if s == {'0','1'} or s =={'0'} or s == {'1'}:\n",
    "        print(f'{st} is binary')\n",
    "    else:\n",
    "        print(f'{st} is not binary')\n",
    "        \n",
    "check_binary('1011')\n",
    "check_binary('gchgc')\n",
    "check_binary('10203')\n"
   ]
  },
  {
   "cell_type": "markdown",
   "metadata": {},
   "source": [
    "Write a Python program to find uncommon words from two Strings?\n"
   ]
  },
  {
   "cell_type": "code",
   "execution_count": 25,
   "metadata": {},
   "outputs": [
    {
     "name": "stdout",
     "output_type": "stream",
     "text": [
      "{'sample2', 'sample1'}\n"
     ]
    }
   ],
   "source": [
    "def uncommon_words(str1,str2):\n",
    "    sstr1=set(str1.split())\n",
    "    sstr2=set(str2.split())\n",
    "    com=sstr1.union(sstr2)\n",
    "    inter=sstr1.intersection(sstr2)\n",
    "    uncom=com.difference(inter)\n",
    "    print(uncom)\n",
    "    \n",
    "uncommon_words('This is sample1','This is sample2')"
   ]
  },
  {
   "cell_type": "markdown",
   "metadata": {},
   "source": [
    "Write a Python to find all duplicate characters in string?\n"
   ]
  },
  {
   "cell_type": "code",
   "execution_count": 55,
   "metadata": {},
   "outputs": [
    {
     "name": "stdout",
     "output_type": "stream",
     "text": [
      "The duplicates in given string are  a s d f k "
     ]
    }
   ],
   "source": [
    "s='dafghs alkjsdfk'\n",
    "a=''\n",
    "print('The duplicates in given string are ',end=' ')\n",
    "for i in s:\n",
    "    if i not in a:\n",
    "        a=a+i\n",
    "    else:\n",
    "        print(i,end=' ')"
   ]
  },
  {
   "cell_type": "markdown",
   "metadata": {},
   "source": [
    "Write a Python Program to check if a string contains any special character?\n"
   ]
  },
  {
   "cell_type": "code",
   "execution_count": 60,
   "metadata": {},
   "outputs": [
    {
     "name": "stdout",
     "output_type": "stream",
     "text": [
      "sample+ contains a special character \n"
     ]
    }
   ],
   "source": [
    "st='!@#$%^&*()-+?_=,<>/'\n",
    "spec_c='sample+'\n",
    "flag=0\n",
    "for i in st:\n",
    "    if i in spec_c:\n",
    "        \n",
    "        flag=1\n",
    "        break\n",
    "if flag==1:\n",
    "    print(f'{spec_c} contains a special character ')\n",
    "else:\n",
    "    print(f'No special character in {spec_c}')"
   ]
  }
 ],
 "metadata": {
  "kernelspec": {
   "display_name": "Python 3",
   "language": "python",
   "name": "python3"
  },
  "language_info": {
   "codemirror_mode": {
    "name": "ipython",
    "version": 3
   },
   "file_extension": ".py",
   "mimetype": "text/x-python",
   "name": "python",
   "nbconvert_exporter": "python",
   "pygments_lexer": "ipython3",
   "version": "3.7.3"
  }
 },
 "nbformat": 4,
 "nbformat_minor": 2
}
