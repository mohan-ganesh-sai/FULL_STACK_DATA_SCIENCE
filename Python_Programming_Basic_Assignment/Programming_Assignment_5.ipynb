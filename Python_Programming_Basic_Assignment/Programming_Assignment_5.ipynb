{
 "cells": [
  {
   "cell_type": "markdown",
   "metadata": {},
   "source": [
    "Write a Python Program to Find LCM?\n"
   ]
  },
  {
   "cell_type": "code",
   "execution_count": 19,
   "metadata": {},
   "outputs": [
    {
     "name": "stdout",
     "output_type": "stream",
     "text": [
      "LCM of 25 and 20 is 100\n",
      "LCM of 4 and 12 is 12\n"
     ]
    }
   ],
   "source": [
    "def LCM(num1,num2):\n",
    "    c=0\n",
    "    if(num1 > num2 ):\n",
    "        max= num1\n",
    "    else:\n",
    "        max= num2\n",
    "    value=max\n",
    "    while(True):\n",
    "        c+=1\n",
    "        if(max % num1 == 0 and max % num2 == 0):   \n",
    "            print(f'LCM of {num1} and {num2} is {max}')\n",
    "            break;\n",
    "        max= max+value\n",
    "    \n",
    "LCM(25,20)\n",
    "LCM(4,12)"
   ]
  },
  {
   "cell_type": "markdown",
   "metadata": {},
   "source": [
    "Write a Python Program to Find HCF?\n"
   ]
  },
  {
   "cell_type": "code",
   "execution_count": 6,
   "metadata": {},
   "outputs": [
    {
     "name": "stdout",
     "output_type": "stream",
     "text": [
      "HCF of two numbers 25 ,36 is 1 \n",
      "HCF of two numbers 20 ,36 is 4 \n",
      "HCF of two numbers 15 ,25 is 5 \n"
     ]
    }
   ],
   "source": [
    "def HCF(num1,num2):\n",
    "    a=num1\n",
    "    b=num2\n",
    "    while(num1%num2 != 0):\n",
    "        rem = num1%num2\n",
    "        num1 = num2\n",
    "        num2 = rem\n",
    "    print(f'HCF of two numbers {a} ,{b} is {num2} ')\n",
    "HCF(25,36)\n",
    "HCF(20,36)\n",
    "HCF(15,25)"
   ]
  },
  {
   "cell_type": "markdown",
   "metadata": {},
   "source": [
    "Write a Python Program to Convert Decimal to Binary, Octal and Hexadecimal?\n"
   ]
  },
  {
   "cell_type": "code",
   "execution_count": 30,
   "metadata": {},
   "outputs": [
    {
     "name": "stdout",
     "output_type": "stream",
     "text": [
      "Binary,octal and Hexadecimal values of 10 are 0b1010,0o12 and 0xa respectively\n",
      "Binary,octal and Hexadecimal values of 16 are 0b10000,0o20 and 0x10 respectively\n"
     ]
    }
   ],
   "source": [
    "def conversion(num):\n",
    "    return f'Binary,octal and Hexadecimal values of {num} are {bin(num)},{oct(num)} and {hex(num)} respectively'\n",
    "\n",
    "print(conversion(10))\n",
    "print(conversion(16))"
   ]
  },
  {
   "cell_type": "markdown",
   "metadata": {},
   "source": [
    "Write a Python Program To Find ASCII value of a character?\n"
   ]
  },
  {
   "cell_type": "code",
   "execution_count": 37,
   "metadata": {},
   "outputs": [
    {
     "name": "stdout",
     "output_type": "stream",
     "text": [
      "ASCII value of c is 99\n",
      "ASCII value of F is 70\n"
     ]
    }
   ],
   "source": [
    "def ascii_c(char):\n",
    "    return print(f'ASCII value of {char} is {ord(char)}')\n",
    "\n",
    "ascii_c('c')\n",
    "ascii_c('F')"
   ]
  },
  {
   "cell_type": "markdown",
   "metadata": {},
   "source": [
    "Write a Python Program to Make a Simple Calculator with 4 basic mathematical operations?\n"
   ]
  },
  {
   "cell_type": "code",
   "execution_count": 44,
   "metadata": {},
   "outputs": [
    {
     "name": "stdout",
     "output_type": "stream",
     "text": [
      "The addition of 3 and 4 is 7\n",
      "The subtraction of 3 and 4 is -1\n",
      "The multiplication of 3 and 4 is 12\n",
      "The division of 3 and 4 is 0.75\n"
     ]
    }
   ],
   "source": [
    "def simple_calc(op1,op2,operator):\n",
    "    if operator=='addition':\n",
    "        res=op1+op2\n",
    "    elif operator=='subtraction':\n",
    "        res=op1-op2\n",
    "    elif operator=='multiplication':\n",
    "        res=op1*op2\n",
    "    elif operator=='division':\n",
    "        res=op1/op2\n",
    "    else:\n",
    "        res='Pleae give 1st 2 parameters as operands and 3rd parameter is operator which can be addition or subtraction or multiplication or division'\n",
    "    return print(f'The {operator} of {op1} and {op2} is {res}')\n",
    "simple_calc(3,4,'addition')\n",
    "simple_calc(3,4,'subtraction')\n",
    "simple_calc(3,4,'multiplication')\n",
    "simple_calc(3,4,'division')"
   ]
  },
  {
   "cell_type": "code",
   "execution_count": null,
   "metadata": {},
   "outputs": [],
   "source": []
  },
  {
   "cell_type": "code",
   "execution_count": null,
   "metadata": {},
   "outputs": [],
   "source": []
  },
  {
   "cell_type": "code",
   "execution_count": null,
   "metadata": {},
   "outputs": [],
   "source": []
  }
 ],
 "metadata": {
  "kernelspec": {
   "display_name": "Python 3",
   "language": "python",
   "name": "python3"
  },
  "language_info": {
   "codemirror_mode": {
    "name": "ipython",
    "version": 3
   },
   "file_extension": ".py",
   "mimetype": "text/x-python",
   "name": "python",
   "nbconvert_exporter": "python",
   "pygments_lexer": "ipython3",
   "version": "3.7.3"
  }
 },
 "nbformat": 4,
 "nbformat_minor": 2
}
