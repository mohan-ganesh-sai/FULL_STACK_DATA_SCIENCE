{
 "cells": [
  {
   "cell_type": "markdown",
   "metadata": {},
   "source": [
    "### 1. Why are functions advantageous to have in your programs?\n",
    "### Answer:\n",
    "functions main advantage is use the same code many number of times.This avoids duplication of code and Number of lines in code also decreases.\n",
    "\n",
    "\n",
    "### 2. When does the code in a function run: when it's specified or when it's called?\n",
    "### Answer:\n",
    "code of a function executes only when function is called but not when its defined.\n",
    "\n",
    "\n",
    "### 3. What statement creates a function?\n",
    "### Answer:\n",
    "def sample():\n",
    "def is the keyword used to create a function\n",
    "\n",
    "\n",
    "### 4. What is the difference between a function and a function call?\n",
    "### Answer:\n",
    "ex:\n",
    "def sample(a,b):\n",
    "    print(\"this is sample code\")\n",
    "    return a+b\n",
    "A function is defined using keyword def.\n",
    "A function is called using the funcation name and returns some value.\n",
    "ex:\n",
    "sample(2,3)\n",
    "\n",
    "\n",
    "### 5. How many global scopes are there in a Python program? How many local scopes?\n",
    "### Answer:\n",
    "There is only one global scope and one local scope in python when function is called.\n",
    "\n",
    "\n",
    "### 6. What happens to variables in a local scope when the function call returns?\n",
    "### Answer:\n",
    "once the function calls are returned , the local variables values will be forgetten.\n",
    "\n",
    "\n",
    "### 7. What is the concept of a return value? Is it possible to have a return value in an expression?\n",
    "### Answer:\n",
    "return value is returned when a function is called,Yes we can have expression in return similar to value. \n",
    "\n",
    "\n",
    "### 8. If a function does not have a return statement, what is the return value of a call to that function?\n",
    "### Answer:\n",
    "the return value of a function which don't have return statement is None.\n",
    "\n",
    "\n",
    "### 9. How do you make a function variable refer to the global variable?\n",
    "### Answer:\n",
    "a global statement will make a function variable refer to the global variable.\n",
    "\n",
    "\n",
    "### 10. What is the data type of None?\n",
    "### Answer:\n",
    "data type of None is Nonetype\n",
    "\n",
    "\n",
    "### 11. What does the sentence import areallyourpetsnamederic do?\n",
    "### Answer:\n",
    "This import statement imports a module named areallyourpetsnamederic but this is not real python module.\n",
    "\n",
    "\n",
    "### 12. If you had a bacon() feature in a spam module, what would you call it after importing spam?\n",
    "### Answer:\n",
    "spam.bacon()\n",
    "\n",
    "\n",
    "### 13. What can you do to save a programme from crashing if it encounters an error?\n",
    "### Answer:\n",
    "we can use try clause to avoid crashing programme because of error by writing code inside try clause.\n",
    "\n",
    "\n",
    "### 14. What is the purpose of the try clause? What is the purpose of the except clause?\n",
    "### Answer:\n",
    "The code which is written in try clause if it throws an error then program doesn't crash or throw an error but it will go to except clause\n",
    "\n"
   ]
  },
  {
   "cell_type": "code",
   "execution_count": 3,
   "metadata": {},
   "outputs": [
    {
     "data": {
      "text/plain": [
       "NoneType"
      ]
     },
     "execution_count": 3,
     "metadata": {},
     "output_type": "execute_result"
    }
   ],
   "source": [
    "type(None)"
   ]
  },
  {
   "cell_type": "code",
   "execution_count": 2,
   "metadata": {},
   "outputs": [
    {
     "ename": "ModuleNotFoundError",
     "evalue": "No module named 'areallyourpetsnamederic'",
     "output_type": "error",
     "traceback": [
      "\u001b[1;31m---------------------------------------------------------------------------\u001b[0m",
      "\u001b[1;31mModuleNotFoundError\u001b[0m                       Traceback (most recent call last)",
      "\u001b[1;32m<ipython-input-2-b1ea9cb2228f>\u001b[0m in \u001b[0;36m<module>\u001b[1;34m\u001b[0m\n\u001b[1;32m----> 1\u001b[1;33m \u001b[1;32mimport\u001b[0m \u001b[0mareallyourpetsnamederic\u001b[0m\u001b[1;33m\u001b[0m\u001b[1;33m\u001b[0m\u001b[0m\n\u001b[0m",
      "\u001b[1;31mModuleNotFoundError\u001b[0m: No module named 'areallyourpetsnamederic'"
     ]
    }
   ],
   "source": [
    "import areallyourpetsnamederic"
   ]
  },
  {
   "cell_type": "code",
   "execution_count": null,
   "metadata": {},
   "outputs": [],
   "source": []
  }
 ],
 "metadata": {
  "kernelspec": {
   "display_name": "Python 3",
   "language": "python",
   "name": "python3"
  },
  "language_info": {
   "codemirror_mode": {
    "name": "ipython",
    "version": 3
   },
   "file_extension": ".py",
   "mimetype": "text/x-python",
   "name": "python",
   "nbconvert_exporter": "python",
   "pygments_lexer": "ipython3",
   "version": "3.7.3"
  }
 },
 "nbformat": 4,
 "nbformat_minor": 2
}
