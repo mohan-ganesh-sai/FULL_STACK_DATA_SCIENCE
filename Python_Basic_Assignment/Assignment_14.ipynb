{
 "cells": [
  {
   "cell_type": "markdown",
   "metadata": {},
   "source": [
    "1. What does RGBA stand for?\n",
    "\n",
    "Answer: RGBA stands for Red Green Blue Alpha/Transparency\n",
    "\n",
    "2. From the Pillow module, how do you get the RGBA value of any images?\n",
    "\n",
    "Answer: ImageColor.getcolor()\n",
    "\n",
    "3. What is a box tuple, and how does it work?\n",
    "\n",
    "Answer:A box tuple is a tuple value of four integers: the left-edge x-coordinate,the top-edge y-coordinate, the width, and the height, respectively\n",
    "\n",
    "4. Use your image and load in notebook then, How can you find out the width and height of an Image object?\n",
    "\n",
    "Answer:Image.open('image.png')\n",
    "imageObj.size  gives width and height\n",
    "\n",
    "5. What method would you call to get Image object for a 100×100 image, excluding the lower-left quarter of it?\n",
    "\n",
    "Answer: imageObj.crop((0, 50, 50, 50))\n",
    "\n",
    "6. After making changes to an Image object, how could you save it as an image file?\n",
    "\n",
    "Answer:imageObj.save('new_image.png') \n",
    "\n",
    "7. What module contains Pillow’s shape-drawing code?\n",
    "\n",
    "Answer: ImageDraw\n",
    "\n",
    "8. Image objects do not have drawing methods. What kind of object does? How do you get this kind of object?\n",
    "\n",
    "Answer: ImageDraw objects have shape-drawing methods such as point(), line(),or rectangle(). They are returned by passing the Image object to the ImageDraw.Draw() function.\n"
   ]
  }
 ],
 "metadata": {
  "kernelspec": {
   "display_name": "Python 3",
   "language": "python",
   "name": "python3"
  },
  "language_info": {
   "codemirror_mode": {
    "name": "ipython",
    "version": 3
   },
   "file_extension": ".py",
   "mimetype": "text/x-python",
   "name": "python",
   "nbconvert_exporter": "python",
   "pygments_lexer": "ipython3",
   "version": "3.7.3"
  }
 },
 "nbformat": 4,
 "nbformat_minor": 2
}
