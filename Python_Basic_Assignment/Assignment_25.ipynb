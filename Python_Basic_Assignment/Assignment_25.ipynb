{
 "cells": [
  {
   "cell_type": "markdown",
   "metadata": {},
   "source": [
    "1) . What is the difference between enclosing a list comprehension in square brackets and parentheses?\n",
    "\n",
    "Answer:\n",
    "list comprehensions in square brackets produce list whereas in parantheses produce generators\n",
    "\n",
    "\n",
    "2) What is the relationship between generators and iterators?\n",
    "\n",
    "Answers:\n",
    "Iterators are used mostly to iterate or convert other objects to an iterator using iter() function.Iterator uses iter() and next() functions \t\n",
    "Generators are mostly used in loops to generate an iterator by returning all the values in the loop without affecting the iteration of the loop.Generator uses yield keyword\n",
    "\n",
    "\n",
    "3) What are the signs that a function is a generator function?\n",
    "\n",
    "Answer:\n",
    "generator returns an iterator object with a sequence of values. In a generator function, a yield statement is used rather than a return statement.\n",
    "\n",
    "\n",
    "4) What is the purpose of a yield statement?\n",
    "\n",
    "Answer:\n",
    "a yield statement looks much like a return statement, except that instead of stopping execution of the function and returning, yield instead provides a value to the code looping over the generator and pauses execution of the generator function.\n",
    "\n",
    "\n",
    "5) What is the relationship between map calls and list comprehensions? Make a comparison and contrast between the two.\n",
    "\n",
    "Answer:\n",
    "Map function: Suppose we have a function and we want to compute this function for different values in a single line of code . This is where map() function plays its role. map() function returns a map object(which is an iterator) of the results after applying the given function to each item of a given iterable (list, tuple etc.)\n",
    "\n",
    "List Comprehension: List Comprehension is a substitute for the lambda function, map(), filter() and reduce()\n",
    "\n",
    "List comprehension is more concise and easier to read as compared to map.\n",
    "List comprehension allows filtering. In map, we have no such facility. \n",
    "List comprehension are used when a list of results is required as map only returns a map object and does not return any list.\n",
    "List comprehension is faster than map when we need to evaluate expressions that are too long or complicated to express\n",
    "Map is faster in case of calling an already defined function (as no lambda is required).\n",
    "Comparing Execution Time"
   ]
  }
 ],
 "metadata": {
  "kernelspec": {
   "display_name": "Python 3",
   "language": "python",
   "name": "python3"
  },
  "language_info": {
   "codemirror_mode": {
    "name": "ipython",
    "version": 3
   },
   "file_extension": ".py",
   "mimetype": "text/x-python",
   "name": "python",
   "nbconvert_exporter": "python",
   "pygments_lexer": "ipython3",
   "version": "3.7.3"
  }
 },
 "nbformat": 4,
 "nbformat_minor": 2
}
