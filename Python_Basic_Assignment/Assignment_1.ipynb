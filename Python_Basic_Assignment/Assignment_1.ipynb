{
 "cells": [
  {
   "cell_type": "markdown",
   "metadata": {},
   "source": [
    "## 1. In the below elements which of them are values or an expression? eg:- values can be integer or string and expressions will be mathematical operators.\n",
    "* \n",
    "'hello'\n",
    "-87.8\n",
    "- \n",
    "/ \n",
    "\n",
    "+\n",
    "6 "
   ]
  },
  {
   "cell_type": "code",
   "execution_count": 2,
   "metadata": {},
   "outputs": [
    {
     "name": "stdout",
     "output_type": "stream",
     "text": [
      "<class 'str'>\n",
      "<class 'int'>\n",
      "<class 'float'>\n"
     ]
    }
   ],
   "source": [
    "#Answer: 'hello',6,-87.8 are values which are string,int and float respectively\n",
    "#*,-,/,+ are arithmetic operators\n",
    "print(type('hello'))\n",
    "print(type(6))\n",
    "print(type(-87.8))"
   ]
  },
  {
   "cell_type": "markdown",
   "metadata": {},
   "source": [
    "## 2. What is the difference between string and variable?\n",
    "### Answer: \n",
    "A string is a sequence of characters and it is immutable i.e once defined , they cannot be changed whereas variable is a reserved memory location to store variable and variable is created by simply assigning a value to variable.\n",
    "\n",
    "\n",
    "## 3. Describe three different data types.\n",
    "### Answer:\n",
    "There are many datatypes in python. Lets discuss some datatypes.\n",
    "Text Type : str -- Text infomartion is stored in string datatype\n",
    "\n",
    "Numeric Type : int , float , complex -- These are integers,real numbers and complex (real number + imaginary number) respectively\n",
    "\n",
    "Sequence Type: list, tuple , range\n",
    "list : we can store a list of multiple items in a single variable and list is mutable\n",
    "Tuple : Tuple is same as list but which is ordered and immutable(unchangeable)\n",
    "Range : range(start, stop, step) -- it is a sequence of numbers with 3 parameters as shown whereas 0 is start by default and step is 1 by default\n",
    "\n",
    "Boolean Type : bool -- value will be either True or False\n",
    "\n",
    "\n",
    "## 4. What is an expression made up of? What do all expressions do?\n",
    "### Answer: \n",
    "A sequence of operands and operators is called an expression.Expressions are representations of value.\n",
    "Expressions will be evaluated by interpreter and result will be displayed into a single value.\n",
    "Ex: a+b\n",
    "\n",
    "\n",
    "## 5. This assignment statements, like spam = 10. What is the difference between an expression and a statement?.\n",
    "### Answer: \n",
    "spam = 10 , Here we are assigning a value 10 to a variable.So this a statement.\n",
    "\n",
    "An expression is a combination of values, variables, operators, and calls to functions. Expressions need to be evaluated. If you ask Python to print an expression, the interpreter evaluates the expression and displays the result.\n",
    "\n",
    "A statement is an instruction that the Python interpreter can execute. We have seen two kinds of statements: print and assignment.When you type a statement on the command line, Python executes it and displays the result, if there is one. The result of a print statement is a value. Assignment statements don't produce a result.\n",
    "\n",
    "\n",
    "## 6. After running the following code, what does the variable bacon contain?\n",
    "bacon = 22\n",
    "bacon + 1\n",
    "### Answer:22\n",
    "22 because bacon value is increased by 1 but increased value is not assigned to bacon again.So value remains the same in variable.\n",
    "\n",
    "\n",
    "## 7. What should the values of the following two terms be?\n",
    "'spam' + 'spamspam'\n",
    "'spam' * 3\n",
    "### Answer: result of above both statements are same i.e 'spamspamspam'\n",
    "\n",
    "\n",
    "\n",
    "## 8. Why is eggs a valid variable name while 100 is invalid?\n",
    "### Answer : \n",
    "As per rules of python variable, a variable must start with a alphabet or a underscore.\n",
    "So eggs is valid and 100 is invalid as it started with a number violating the rules of variable.\n",
    "\n",
    "\n",
    "## 9. What three functions can be used to get the integer, floating-point number, or string version of a value?\n",
    "### Answer : \n",
    "int(),float() and str() functions are used to get the integer, floating-point number, or string version of a value.\n",
    "\n",
    "\n",
    "\n",
    "## 10. Why does this expression cause an error? How can you fix it?\n",
    "'I have eaten ' + 99 + ' burritos.'\n",
    "### Answer:\n",
    "this will give error becasue we cannot concatenate a int with string. It can be fixed by typecasting int into string as below.\n",
    "'I have eaten ' + str(99) + ' burritos.'\n"
   ]
  },
  {
   "cell_type": "markdown",
   "metadata": {},
   "source": []
  },
  {
   "cell_type": "code",
   "execution_count": 10,
   "metadata": {},
   "outputs": [
    {
     "name": "stdout",
     "output_type": "stream",
     "text": [
      "22\n",
      "22\n"
     ]
    }
   ],
   "source": [
    "bacon = 22\n",
    "print(bacon)\n",
    "bacon = 22\n",
    "bacon + 1\n",
    "print(bacon)"
   ]
  },
  {
   "cell_type": "code",
   "execution_count": 12,
   "metadata": {},
   "outputs": [
    {
     "data": {
      "text/plain": [
       "'spamspamspam'"
      ]
     },
     "execution_count": 12,
     "metadata": {},
     "output_type": "execute_result"
    }
   ],
   "source": [
    "'spam' + 'spamspam'\n"
   ]
  },
  {
   "cell_type": "code",
   "execution_count": 13,
   "metadata": {},
   "outputs": [
    {
     "data": {
      "text/plain": [
       "'spamspamspam'"
      ]
     },
     "execution_count": 13,
     "metadata": {},
     "output_type": "execute_result"
    }
   ],
   "source": [
    "'spam' * 3"
   ]
  },
  {
   "cell_type": "code",
   "execution_count": 18,
   "metadata": {},
   "outputs": [
    {
     "ename": "TypeError",
     "evalue": "can only concatenate str (not \"int\") to str",
     "output_type": "error",
     "traceback": [
      "\u001b[1;31m---------------------------------------------------------------------------\u001b[0m",
      "\u001b[1;31mTypeError\u001b[0m                                 Traceback (most recent call last)",
      "\u001b[1;32m<ipython-input-18-d24137131a5c>\u001b[0m in \u001b[0;36m<module>\u001b[1;34m\u001b[0m\n\u001b[1;32m----> 1\u001b[1;33m \u001b[1;34m'I have eaten '\u001b[0m \u001b[1;33m+\u001b[0m \u001b[1;36m99\u001b[0m \u001b[1;33m+\u001b[0m \u001b[1;34m' burritos.'\u001b[0m\u001b[1;33m\u001b[0m\u001b[1;33m\u001b[0m\u001b[0m\n\u001b[0m",
      "\u001b[1;31mTypeError\u001b[0m: can only concatenate str (not \"int\") to str"
     ]
    }
   ],
   "source": [
    "'I have eaten ' + 99 + ' burritos.'"
   ]
  },
  {
   "cell_type": "code",
   "execution_count": 19,
   "metadata": {},
   "outputs": [
    {
     "data": {
      "text/plain": [
       "'I have eaten 99 burritos.'"
      ]
     },
     "execution_count": 19,
     "metadata": {},
     "output_type": "execute_result"
    }
   ],
   "source": [
    "'I have eaten ' + str(99) + ' burritos.'"
   ]
  }
 ],
 "metadata": {
  "kernelspec": {
   "display_name": "Python 3",
   "language": "python",
   "name": "python3"
  },
  "language_info": {
   "codemirror_mode": {
    "name": "ipython",
    "version": 3
   },
   "file_extension": ".py",
   "mimetype": "text/x-python",
   "name": "python",
   "nbconvert_exporter": "python",
   "pygments_lexer": "ipython3",
   "version": "3.7.3"
  }
 },
 "nbformat": 4,
 "nbformat_minor": 2
}
