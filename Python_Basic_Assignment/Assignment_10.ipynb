{
 "cells": [
  {
   "cell_type": "markdown",
   "metadata": {},
   "source": [
    "1. How do you distinguish between shutil.copy() and shutil.copytree()?\n",
    "\n",
    "Answer:The shutil.copy() function will copy a single file, while shutil.copytree()\n",
    "will copy an entire folder, along with all its contents.\n",
    "\n",
    "2. What function is used to rename files??\n",
    "\n",
    "Answer:shutil.move()\n",
    "\n",
    "3. What is the difference between the delete functions in the send2trash and shutil modules?\n",
    "\n",
    "Answer:The send2trash functions will move a file or folder to the recycle bin,\n",
    "while shutil functions will permanently delete files and folders\n",
    "\n",
    "4.ZipFile objects have a close() method just like File objects’ close() method. What ZipFile method is equivalent to File objects’ open() method?\n",
    "\n",
    "Answer:The zipfile.ZipFile() function is equivalent to the open() function; the\n",
    "first argument is the filename, and the second argument is the mode to\n",
    "open the ZIP file in (read, write, or append).\n",
    "\n",
    "5. Create a programme that searches a folder tree for files with a certain file extension (such as .pdf or .jpg). Copy these files from whatever location they are in to a new folder.\n",
    "\n",
    "Answer:def moveFile(folder):\n",
    "    for folderName, subfolders, filenames in os.walk(folder):\n",
    "        for filename in filenames:\n",
    "            \n",
    "            if filename.endswith('.jpg') or filename.endswith('.pdf'):\n",
    "                shutil.copy(os.path.join(folderName, filename), 'F:\\\\Ineuron Course\\\\Assignments\\\\New Folder')\n",
    "                print(filename)\n",
    "\n",
    "                \n",
    "moveFile('F:\\\\Ineuron Course\\\\Assignments\\\\Python_Basic_Assignment')"
   ]
  },
  {
   "cell_type": "code",
   "execution_count": null,
   "metadata": {},
   "outputs": [],
   "source": []
  },
  {
   "cell_type": "code",
   "execution_count": 44,
   "metadata": {},
   "outputs": [
    {
     "name": "stdout",
     "output_type": "stream",
     "text": [
      "sample.txt.txt\n",
      "sample1.txt.txt\n",
      "sample2.txt.txt\n",
      "sdfga.xlsx\n"
     ]
    }
   ],
   "source": [
    "def moveFile(folder):\n",
    "    for folderName, subfolders, filenames in os.walk(folder):\n",
    "        for filename in filenames:\n",
    "            \n",
    "            if filename.endswith('.txt') or filename.endswith('.xlsx'):\n",
    "                shutil.copy(os.path.join(folderName, filename), 'F:\\\\Ineuron Course\\\\Assignments\\\\New Folder')\n",
    "                print(filename)\n",
    "\n",
    "                \n",
    "moveFile('F:\\\\Ineuron Course\\\\Assignments\\\\Python_Basic_Assignment')"
   ]
  },
  {
   "cell_type": "code",
   "execution_count": 11,
   "metadata": {},
   "outputs": [],
   "source": [
    "folder = os.path.abspath(folder)"
   ]
  },
  {
   "cell_type": "code",
   "execution_count": 12,
   "metadata": {},
   "outputs": [
    {
     "data": {
      "text/plain": [
       "'F:\\\\Ineuron Course\\\\Assignments\\\\Python_Basic_Assignment'"
      ]
     },
     "execution_count": 12,
     "metadata": {},
     "output_type": "execute_result"
    }
   ],
   "source": [
    "folder"
   ]
  },
  {
   "cell_type": "code",
   "execution_count": 17,
   "metadata": {},
   "outputs": [
    {
     "name": "stdout",
     "output_type": "stream",
     "text": [
      "['.ipynb_checkpoints', 'New folder']\n",
      "[]\n",
      "[]\n"
     ]
    }
   ],
   "source": [
    "os.walk(folder)"
   ]
  },
  {
   "cell_type": "code",
   "execution_count": 22,
   "metadata": {},
   "outputs": [
    {
     "name": "stdout",
     "output_type": "stream",
     "text": [
      "F:\\Ineuron Course\\Assignments\\Python_Basic_Assignment-----------------['.ipynb_checkpoints', 'New folder']--------['Assignment_1.ipynb', 'Assignment_10.ipynb', 'Assignment_11.ipynb', 'Assignment_12.ipynb', 'Assignment_2.ipynb', 'Assignment_3.ipynb', 'Assignment_4.ipynb', 'Assignment_5.ipynb', 'Assignment_6.ipynb', 'Assignment_7.ipynb', 'Assignment_8.ipynb', 'Assignment_9.ipynb', 'sample.txt.txt', 'sample1.txt.txt', 'sample2.txt.txt', 'sdfga.csv.xlsx']\n",
      "F:\\Ineuron Course\\Assignments\\Python_Basic_Assignment\\.ipynb_checkpoints-----------------[]--------['Assignment_1-checkpoint.ipynb', 'Assignment_10-checkpoint.ipynb', 'Assignment_11-checkpoint.ipynb', 'Assignment_12-checkpoint.ipynb', 'Assignment_2-checkpoint.ipynb', 'Assignment_3-checkpoint.ipynb', 'Assignment_4-checkpoint.ipynb', 'Assignment_5-checkpoint.ipynb', 'Assignment_6-checkpoint.ipynb', 'Assignment_7-checkpoint.ipynb', 'Assignment_8-checkpoint.ipynb', 'Assignment_9-checkpoint.ipynb']\n",
      "F:\\Ineuron Course\\Assignments\\Python_Basic_Assignment\\New folder-----------------[]--------['sample.txt.txt', 'sample1.txt.txt', 'sample2.txt.txt']\n"
     ]
    }
   ],
   "source": [
    "for foldername, subfolders, filenames in os.walk(folder):\n",
    "    print(str(foldername)+'-----------------'+str(subfolders)+'--------'+str(filenames))"
   ]
  },
  {
   "cell_type": "code",
   "execution_count": 24,
   "metadata": {},
   "outputs": [
    {
     "data": {
      "text/plain": [
       "('Assignment_6', '.ipynb')"
      ]
     },
     "execution_count": 24,
     "metadata": {},
     "output_type": "execute_result"
    }
   ],
   "source": [
    "os.path.splitext('Assignment_6.ipynb')"
   ]
  },
  {
   "cell_type": "code",
   "execution_count": 25,
   "metadata": {},
   "outputs": [
    {
     "data": {
      "text/plain": [
       "'\\\\'"
      ]
     },
     "execution_count": 25,
     "metadata": {},
     "output_type": "execute_result"
    }
   ],
   "source": [
    "os.path.sep"
   ]
  }
 ],
 "metadata": {
  "kernelspec": {
   "display_name": "Python 3",
   "language": "python",
   "name": "python3"
  },
  "language_info": {
   "codemirror_mode": {
    "name": "ipython",
    "version": 3
   },
   "file_extension": ".py",
   "mimetype": "text/x-python",
   "name": "python",
   "nbconvert_exporter": "python",
   "pygments_lexer": "ipython3",
   "version": "3.7.3"
  }
 },
 "nbformat": 4,
 "nbformat_minor": 2
}
