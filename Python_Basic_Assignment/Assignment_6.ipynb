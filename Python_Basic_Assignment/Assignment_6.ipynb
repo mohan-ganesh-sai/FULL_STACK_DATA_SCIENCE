{
 "cells": [
  {
   "cell_type": "markdown",
   "metadata": {},
   "source": [
    "## 1. What are escape characters, and how do you use them?\n",
    "Answer: An escape character is a backslash \\ and we use \\ followed by the character you want to insert.\n",
    "Ex: \\\"\n",
    "\n",
    "\n",
    "## 2. What do the escape characters n and t stand for?\n",
    "Answer: \\n is the new line\n",
    "\\t is the tab line.\n",
    "\n",
    "## 3. What is the way to include backslash characters in a string?\n",
    "Answer: \\\\ is the way to include to blackslash in string\n",
    "\n",
    "## 4. The string is a correct value. Why isn't the single quote character in the word Howl's not escaped a problem?\n",
    "Answer : single quote is not escaped because is enclosed by double quotes(\"\"). In similar way we can enclose by single quotes if we want to skip double quotes. \n",
    "\n",
    "## 5. How do you write a string of newlines if you don't want to use the n character?\n",
    "Answer: Multi line strings are used new lines without n character. It is used by Triple quotes(\"\"\" \"\"\")\n",
    "\n",
    "## 6. What are the values of the given expressions?\n",
    "## 'Hello, world!'[1]\n",
    "## 'Hello, world!'[0:5]\n",
    "## 'Hello, world!'[:5]\n",
    "## 'Hello, world!'[3:]\n",
    "Answer: print('Hello, world!'[1])   -- e <br /> \n",
    "print('Hello, world!'[0:5]) -- Hello <br />\n",
    "print('Hello, world!'[:5])  -- Hello <br />\n",
    "print('Hello, world!'[3:])  -- lo, world! <br />\n",
    "\n",
    "\n",
    "## 7. What are the values of the following expressions?\n",
    "## 'Hello'.upper()\n",
    "## 'Hello'.upper().isupper()\n",
    "## 'Hello'.upper().lower()\n",
    "Answer:\n",
    "        'Hello'.upper() -- HELLO <br />\n",
    "'Hello'.upper().isupper() -- True  <br />\n",
    "'Hello'.upper().lower()   -- hello  <br />\n",
    "\n",
    "\n",
    "## 8. What are the values of the following expressions?\n",
    "## 'Remember, remember, the fifth of July.'.split()\n",
    "## '-'.join('There can only one.'.split())\n",
    "Answer: \n",
    " 'Remember, remember, the fifth of July.'.split() -- ['Remember,', 'remember,', 'the', 'fifth', 'of', 'July.']  ; <br />\n",
    " '-'.join('There can only one.'.split()) -- 'There-can-only-one.' ; <br />\n",
    "\n",
    "\n",
    "## 9. What are the methods for right-justifying, left-justifying, and centering a string?\n",
    "Answer: rjust(),ljust(),center() are methods for right-justifying, left-justifying, and centering a string respectively.\n",
    "\n",
    "## 10. What is the best way to remove whitespace characters from the start or end?\n",
    "Answer: strip() is the method used to remove white spaces from start and end.<br />\n",
    "lstrip() is the remove spaces on left side.<br />\n",
    "rstrip() is the remove spaces on right side.<br />\n"
   ]
  },
  {
   "cell_type": "code",
   "execution_count": 6,
   "metadata": {},
   "outputs": [
    {
     "name": "stdout",
     "output_type": "stream",
     "text": [
      "san\\c\n"
     ]
    }
   ],
   "source": [
    "s='san\\\\c'\n",
    "print(s)"
   ]
  },
  {
   "cell_type": "code",
   "execution_count": 9,
   "metadata": {
    "scrolled": true
   },
   "outputs": [
    {
     "name": "stdout",
     "output_type": "stream",
     "text": [
      "Howl's Moving Castle\n"
     ]
    }
   ],
   "source": [
    "a=\"Howl's Moving Castle\"\n",
    "print(a)"
   ]
  },
  {
   "cell_type": "code",
   "execution_count": 11,
   "metadata": {},
   "outputs": [
    {
     "name": "stdout",
     "output_type": "stream",
     "text": [
      "e\n",
      "Hello\n",
      "Hello\n",
      "lo, world!\n"
     ]
    }
   ],
   "source": [
    "print('Hello, world!'[1])   -- e\n",
    "print('Hello, world!'[0:5]) -- Hello\n",
    "print('Hello, world!'[:5])  -- Hello\n",
    "print('Hello, world!'[3:])  -- lo, world!\n"
   ]
  },
  {
   "cell_type": "code",
   "execution_count": 15,
   "metadata": {},
   "outputs": [
    {
     "data": {
      "text/plain": [
       "'hello'"
      ]
     },
     "execution_count": 15,
     "metadata": {},
     "output_type": "execute_result"
    }
   ],
   "source": [
    "'Hello'.upper()\n",
    "'Hello'.upper().isupper()\n",
    "'Hello'.upper().lower()"
   ]
  },
  {
   "cell_type": "code",
   "execution_count": 16,
   "metadata": {},
   "outputs": [
    {
     "data": {
      "text/plain": [
       "['Remember,', 'remember,', 'the', 'fifth', 'of', 'July.']"
      ]
     },
     "execution_count": 16,
     "metadata": {},
     "output_type": "execute_result"
    }
   ],
   "source": [
    " 'Remember, remember, the fifth of July.'.split()"
   ]
  },
  {
   "cell_type": "code",
   "execution_count": 17,
   "metadata": {},
   "outputs": [
    {
     "data": {
      "text/plain": [
       "'There-can-only-one.'"
      ]
     },
     "execution_count": 17,
     "metadata": {},
     "output_type": "execute_result"
    }
   ],
   "source": [
    "'-'.join('There can only one.'.split())"
   ]
  },
  {
   "cell_type": "code",
   "execution_count": 21,
   "metadata": {},
   "outputs": [
    {
     "data": {
      "text/plain": [
       "'            saikanth'"
      ]
     },
     "execution_count": 21,
     "metadata": {},
     "output_type": "execute_result"
    }
   ],
   "source": [
    " 'saikanth'.rjust(20)"
   ]
  },
  {
   "cell_type": "code",
   "execution_count": 22,
   "metadata": {},
   "outputs": [
    {
     "data": {
      "text/plain": [
       "'saikanth            '"
      ]
     },
     "execution_count": 22,
     "metadata": {},
     "output_type": "execute_result"
    }
   ],
   "source": [
    " 'saikanth'.ljust(20)"
   ]
  },
  {
   "cell_type": "code",
   "execution_count": 23,
   "metadata": {},
   "outputs": [
    {
     "data": {
      "text/plain": [
       "'      saikanth      '"
      ]
     },
     "execution_count": 23,
     "metadata": {},
     "output_type": "execute_result"
    }
   ],
   "source": [
    " 'saikanth'.center(20)"
   ]
  },
  {
   "cell_type": "code",
   "execution_count": 26,
   "metadata": {},
   "outputs": [
    {
     "data": {
      "text/plain": [
       "'mo han'"
      ]
     },
     "execution_count": 26,
     "metadata": {},
     "output_type": "execute_result"
    }
   ],
   "source": [
    "'  mo han '.strip()"
   ]
  }
 ],
 "metadata": {
  "kernelspec": {
   "display_name": "Python 3",
   "language": "python",
   "name": "python3"
  },
  "language_info": {
   "codemirror_mode": {
    "name": "ipython",
    "version": 3
   },
   "file_extension": ".py",
   "mimetype": "text/x-python",
   "name": "python",
   "nbconvert_exporter": "python",
   "pygments_lexer": "ipython3",
   "version": "3.7.3"
  }
 },
 "nbformat": 4,
 "nbformat_minor": 2
}
