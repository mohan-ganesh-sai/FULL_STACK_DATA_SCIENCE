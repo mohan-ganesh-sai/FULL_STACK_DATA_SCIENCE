{
 "cells": [
  {
   "cell_type": "markdown",
   "metadata": {},
   "source": [
    "### 1. What exactly is []?\n",
    "### Answer : \n",
    "[] is a empty list i.e a list which has no items.\n",
    "\n",
    "\n",
    "### 2. In a list of values stored in a variable called spam, how would you assign the value 'hello' as the third value? (Assume [2, 4, 6, 8, 10] are in spam.)\n",
    "### Answer :\n",
    "spam.insert(2,'hello')\n",
    "\n",
    "\n",
    "\n",
    "### 3. What is the value of spam[int(int('3' * 2) / 11)]?\n",
    "### Answer\n",
    "spam -- [2, 4, 'hello', 6, 8, 20, 'a', 'b', 'c', 'd']\n",
    "spam[int(int('3' * 2) / 11)] --6\n",
    "o/p is 6 because 3 which is string is multiplied by 2 which results to 33 and typecasted to int and divided by 11 which results to 3.\n",
    "when we see index 3 in spam then value is 6.\n",
    "\n",
    "\n",
    "### 4. What is the value of spam[-1]?\n",
    "### Answer\n",
    "spam -- [2, 4, 'hello', 6, 8, 20, 'a', 'b', 'c', 'd']\n",
    "spam[-1]  O/P is 'd' which is value at last index.\n",
    "\n",
    "\n",
    "### 5. What is the value of spam[:2]?\n",
    "### Answer\n",
    "spam -- [2, 4, 'hello', 6, 8, 20, 'a', 'b', 'c', 'd']\n",
    "spam[:2] -- [2 ,4]  as start value is empty it take 0 as default value and end value is 2 which gives output till index 2 excluding 2nd index\n",
    "\n",
    "\n",
    "### Let's pretend bacon has the list [3.14, 'cat,' 11, 'cat,' True] for the next three questions.\n",
    "### 6. What is the value of bacon.index('cat')?\n",
    "### Answer : 1\n",
    "it gives index number of 1st occurence of string 'cat' in list.\n",
    "\n",
    "\n",
    "### 7. How does bacon.append(99) change the look of the list value in bacon?\n",
    "### Answer\n",
    "99 is added at the end of list bacon when you use the above command.\n",
    "[3.14, 'cat', 11, 'cat', True, 99]\n",
    "\n",
    "\n",
    "\n",
    "### 8. How does bacon.remove('cat') change the look of the list in bacon?\n",
    "### Answer\n",
    "[3.14, 11, 'cat', True, 99]\n",
    "above command removes the 1st occurance of the string 'cat' from list bacon \n",
    "\n",
    "\n",
    "### 9. What are the list concatenation and list replication operators?\n",
    "### Answer\n",
    "list concatenation is adding 2 list which is denoted by +\n",
    "list replication is resembled by * which is simple terms is multiplication\n",
    "\n",
    "\n",
    "### 10. What is difference between the list methods append() and insert()?\n",
    "### Answer\n",
    "append adds the value at the end of list \n",
    "insert can add them at any index whichever we give.\n",
    "\n",
    "\n",
    "### 11. What are the two methods for removing items from a list?\n",
    "### Answer\n",
    "we can remove items from list using either of the below commands\n",
    "remove \n",
    "pop\n",
    "del\n",
    "\n",
    "\n",
    "### 12. Describe how list values and string values are identical.\n",
    "### Answer\n",
    "In both list and strings we have indexes and can perform slicing operation. we can use in loops.\n",
    "\n",
    "\n",
    "### 13. What's the difference between tuples and lists?\n",
    "### Answer\n",
    "List are mutable i.e list can be modified and is used by symbol []\n",
    "Tuples are immutable i.e cannot be modified and is used by symbol ()\n",
    "\n",
    "\n",
    "### 14. How do you type a tuple value that only contains the integer 42?\n",
    "### Answer\n",
    "(42,) -- if you take only the value 42 in paranthesis then it will consider that as a string.\n",
    "\n",
    "\n",
    "\n",
    "### 15. How do you get a list value's tuple form? How do you get a tuple value's list form?\n",
    "### Answer\n",
    "tuple() and list()\n",
    "\n",
    "\n",
    "### 16. Variables that \"contain\" list values are not necessarily lists themselves. Instead, what do they contain?\n",
    "### Answer\n",
    "they may contains references to list.\n",
    "\n",
    "\n",
    "### 17. How do you distinguish between copy.copy() and copy.deepcopy()?\n",
    "### Answer\n",
    "copy.copy() do the shallow copy of the list whereas copy.deepcopy() will do the deep copy of the list i.e duplicate everything.A deep copy of a collection is two collections with all of the elements in the original collection duplicated.\n",
    "\n"
   ]
  },
  {
   "cell_type": "code",
   "execution_count": 1,
   "metadata": {},
   "outputs": [
    {
     "data": {
      "text/plain": [
       "list"
      ]
     },
     "execution_count": 1,
     "metadata": {},
     "output_type": "execute_result"
    }
   ],
   "source": [
    "type([])"
   ]
  },
  {
   "cell_type": "code",
   "execution_count": 32,
   "metadata": {},
   "outputs": [
    {
     "data": {
      "text/plain": [
       "(1, 2, 3, 4)"
      ]
     },
     "execution_count": 32,
     "metadata": {},
     "output_type": "execute_result"
    }
   ],
   "source": [
    "tuple([1,2,3,4])"
   ]
  },
  {
   "cell_type": "code",
   "execution_count": 33,
   "metadata": {},
   "outputs": [
    {
     "data": {
      "text/plain": [
       "[1, 2, 3, 4, 56, 7]"
      ]
     },
     "execution_count": 33,
     "metadata": {},
     "output_type": "execute_result"
    }
   ],
   "source": [
    "list((1,2,3,4,56,7))"
   ]
  },
  {
   "cell_type": "code",
   "execution_count": 2,
   "metadata": {},
   "outputs": [],
   "source": [
    "spam = [2,4,6,8,20]"
   ]
  },
  {
   "cell_type": "code",
   "execution_count": 3,
   "metadata": {},
   "outputs": [],
   "source": [
    "spam.insert(2,'hello')"
   ]
  },
  {
   "cell_type": "code",
   "execution_count": 5,
   "metadata": {},
   "outputs": [],
   "source": [
    "spam.extend(['a','b','c','d'])"
   ]
  },
  {
   "cell_type": "code",
   "execution_count": 4,
   "metadata": {},
   "outputs": [
    {
     "data": {
      "text/plain": [
       "[2, 4, 'hello', 6, 8, 20]"
      ]
     },
     "execution_count": 4,
     "metadata": {},
     "output_type": "execute_result"
    }
   ],
   "source": [
    "spam"
   ]
  },
  {
   "cell_type": "code",
   "execution_count": 12,
   "metadata": {},
   "outputs": [
    {
     "data": {
      "text/plain": [
       "[2, 4, 'hello', 6, 8, 20, 'a', 'b', 'c', 'd']"
      ]
     },
     "execution_count": 12,
     "metadata": {},
     "output_type": "execute_result"
    }
   ],
   "source": [
    "spam"
   ]
  },
  {
   "cell_type": "code",
   "execution_count": 19,
   "metadata": {},
   "outputs": [],
   "source": [
    "bacon =  [3.14, 'cat', 11, 'cat', True]"
   ]
  },
  {
   "cell_type": "code",
   "execution_count": 20,
   "metadata": {},
   "outputs": [
    {
     "data": {
      "text/plain": [
       "[3.14, 'cat', 11, 'cat', True]"
      ]
     },
     "execution_count": 20,
     "metadata": {},
     "output_type": "execute_result"
    }
   ],
   "source": [
    "bacon"
   ]
  },
  {
   "cell_type": "code",
   "execution_count": 21,
   "metadata": {},
   "outputs": [
    {
     "data": {
      "text/plain": [
       "1"
      ]
     },
     "execution_count": 21,
     "metadata": {},
     "output_type": "execute_result"
    }
   ],
   "source": [
    "bacon.index('cat')"
   ]
  },
  {
   "cell_type": "code",
   "execution_count": 22,
   "metadata": {},
   "outputs": [],
   "source": [
    "bacon.append(99)"
   ]
  },
  {
   "cell_type": "code",
   "execution_count": 23,
   "metadata": {},
   "outputs": [
    {
     "data": {
      "text/plain": [
       "[3.14, 'cat', 11, 'cat', True, 99]"
      ]
     },
     "execution_count": 23,
     "metadata": {},
     "output_type": "execute_result"
    }
   ],
   "source": [
    "bacon"
   ]
  },
  {
   "cell_type": "code",
   "execution_count": 24,
   "metadata": {},
   "outputs": [],
   "source": [
    " bacon.remove('cat')"
   ]
  },
  {
   "cell_type": "code",
   "execution_count": 25,
   "metadata": {},
   "outputs": [
    {
     "data": {
      "text/plain": [
       "[3.14, 11, 'cat', True, 99]"
      ]
     },
     "execution_count": 25,
     "metadata": {},
     "output_type": "execute_result"
    }
   ],
   "source": [
    "bacon"
   ]
  },
  {
   "cell_type": "code",
   "execution_count": 30,
   "metadata": {},
   "outputs": [
    {
     "data": {
      "text/plain": [
       "int"
      ]
     },
     "execution_count": 30,
     "metadata": {},
     "output_type": "execute_result"
    }
   ],
   "source": [
    "type((42))"
   ]
  },
  {
   "cell_type": "code",
   "execution_count": 31,
   "metadata": {},
   "outputs": [
    {
     "data": {
      "text/plain": [
       "tuple"
      ]
     },
     "execution_count": 31,
     "metadata": {},
     "output_type": "execute_result"
    }
   ],
   "source": [
    "type((42,))"
   ]
  },
  {
   "cell_type": "code",
   "execution_count": null,
   "metadata": {},
   "outputs": [],
   "source": []
  },
  {
   "cell_type": "code",
   "execution_count": 13,
   "metadata": {},
   "outputs": [
    {
     "data": {
      "text/plain": [
       "6"
      ]
     },
     "execution_count": 13,
     "metadata": {},
     "output_type": "execute_result"
    }
   ],
   "source": [
    "spam[int(int('3' * 2) / 11)]"
   ]
  },
  {
   "cell_type": "code",
   "execution_count": 11,
   "metadata": {},
   "outputs": [
    {
     "data": {
      "text/plain": [
       "'hello'"
      ]
     },
     "execution_count": 11,
     "metadata": {},
     "output_type": "execute_result"
    }
   ],
   "source": [
    "spam[2]"
   ]
  },
  {
   "cell_type": "code",
   "execution_count": 14,
   "metadata": {},
   "outputs": [
    {
     "data": {
      "text/plain": [
       "'d'"
      ]
     },
     "execution_count": 14,
     "metadata": {},
     "output_type": "execute_result"
    }
   ],
   "source": [
    "spam[-1]"
   ]
  },
  {
   "cell_type": "code",
   "execution_count": 17,
   "metadata": {},
   "outputs": [
    {
     "data": {
      "text/plain": [
       "[2, 4]"
      ]
     },
     "execution_count": 17,
     "metadata": {},
     "output_type": "execute_result"
    }
   ],
   "source": [
    "spam[:2]"
   ]
  }
 ],
 "metadata": {
  "kernelspec": {
   "display_name": "Python 3",
   "language": "python",
   "name": "python3"
  },
  "language_info": {
   "codemirror_mode": {
    "name": "ipython",
    "version": 3
   },
   "file_extension": ".py",
   "mimetype": "text/x-python",
   "name": "python",
   "nbconvert_exporter": "python",
   "pygments_lexer": "ipython3",
   "version": "3.7.3"
  }
 },
 "nbformat": 4,
 "nbformat_minor": 2
}
